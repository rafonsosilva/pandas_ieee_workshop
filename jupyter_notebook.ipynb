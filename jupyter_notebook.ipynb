{
 "cells": [
  {
   "cell_type": "markdown",
   "metadata": {},
   "source": [
    "<center>\n",
    "    <a href='anaconda.ipynb'> << Previous</a> &nbsp; | &nbsp; \n",
    "    <a href='main.ipynb'>Table of contents</a> &nbsp; | &nbsp; \n",
    "    <a href='pandas.ipynb'>Next >></a>\n",
    "</center>"
   ]
  },
  {
   "cell_type": "markdown",
   "metadata": {},
   "source": [
    "# 2. Jupyter Notebook"
   ]
  },
  {
   "cell_type": "markdown",
   "metadata": {},
   "source": [
    "The Jupyter Notebook is an open-source web application that allows you to create and share documents that contain live code, equations, visualizations and narrative text. Uses include: data cleaning and transformation, numerical simulation, statistical modeling, data visualization, machine learning, and much more.\n",
    "\n",
    "Source: https://jupyter.org/"
   ]
  },
  {
   "cell_type": "markdown",
   "metadata": {},
   "source": [
    "## Running Jupyter Notebook"
   ]
  },
  {
   "cell_type": "markdown",
   "metadata": {},
   "source": [
    "After installing the Anaconda Navigator, there are two ways to run te Jupyter Notebook: <a href='#gui'>1. Using the graphical interface</a>, or <a href='#prompt'>2. Using the Anaconda prompt</a>.\n",
    "\n",
    "Note: a good way to get familiarized with Jupyter Notebook is exploring the options under the Help menu button, specially the \"User Interface Tour\" and the \"Keyboard Shortcuts\".  \n",
    "<img src='img/jupyter10.png'>"
   ]
  },
  {
   "cell_type": "markdown",
   "metadata": {},
   "source": [
    "<a id='gui'></a>\n",
    "### 1. Using the graphical inteface"
   ]
  },
  {
   "cell_type": "markdown",
   "metadata": {},
   "source": [
    "1.1. After <a href='anaconda.ipynb'>installing</a> and opening Anaconda Navigator, find the Jupyter Notebook on the dashboard and select \"launch\".  \n",
    "<img src='img/jupyter1.png'>"
   ]
  },
  {
   "cell_type": "markdown",
   "metadata": {},
   "source": [
    "1.2. You will then see a new tab of your default web browser opening with a screen similar to this:  \n",
    "<img src='img/jupyter2.png'>"
   ]
  },
  {
   "cell_type": "markdown",
   "metadata": {},
   "source": [
    "<a id='1.3'></a>\n",
    "1.3. The image above shows that the Jupyter Notebook will start being executed from a local instance and on your screen you should see a list of the local folders and files in your computer. You can navigate to the folder that you wish to create your Jupyter Notebook file and then select New > Python 3 (or any other Python version that you want to use)  \n",
    "<img src='img/jupyter3.png'>"
   ]
  },
  {
   "cell_type": "markdown",
   "metadata": {},
   "source": [
    "<a id='1.4'></a>\n",
    "1.4. A new Jupyter Notebook file will be opened in a new tab of your browser. By default, these new files are just temporarily saved during its execution, so if you close it without explicitly saving it, the file will be lost. To save the new file, you can click on \"untitled\" and rename it. If you just want to save it more quickly without renaming, just click on the save icon.  \n",
    "<img src='img/jupyter4.png'>"
   ]
  },
  {
   "cell_type": "markdown",
   "metadata": {},
   "source": [
    "1.5. You will be able to see the saved file whenever you navigate to the folder location where you have opened your Jupyter Notebook on the step 1.3 above.  \n",
    "\n",
    "Note: Jupyter Notebook file has the extension .ipynb and it can only be executed properly from the Jupyter Notebook. If you find the file in your system and try to execute it directly, your operating system will not know which application should be used to open it. You can choose to execute the .ipynb files with an IDE as <a href='https://code.visualstudio.com/' target='_blank'>VS Code</a> for example, but it would require extra configuration, which is beyond the scope of this material.\n",
    "<img src='img/jupyter6.png'>"
   ]
  },
  {
   "cell_type": "markdown",
   "metadata": {},
   "source": [
    "<a id='prompt'></a>\n",
    "### 2. Using the Anaconda prompt"
   ]
  },
  {
   "cell_type": "markdown",
   "metadata": {},
   "source": [
    "2.1. Open the Anaconda folder from your applications list, and select the Anaconda Prompt (anaconda3).  \n",
    "<img src='img/jupyter7.png'>"
   ]
  },
  {
   "cell_type": "markdown",
   "metadata": {},
   "source": [
    "2.2. Then you can <a href='https://www.howtogeek.com/659411/how-to-change-directories-in-command-prompt-on-windows-10/'>change to a directory of your choice (or create one)</a>. Once you have selected the directory you want in the prompt, you can just type the command below followed by Enter: <pre>jupyter notebook</pre>\n",
    "\n",
    "<img src='img/jupyter8.png'>"
   ]
  },
  {
   "cell_type": "markdown",
   "metadata": {},
   "source": [
    "2.3. Next, the Jupiter Notebook will start being executed on a new tab of your web browser and you will be able to see and execute other Jupyter Notebook files (.ipynb) that you may have in that location.  \n",
    "<img src='img/jupyter9.png'>"
   ]
  },
  {
   "cell_type": "markdown",
   "metadata": {},
   "source": [
    "2.4. You can then follow the steps <a href='#1.3'>1.3</a> and <a href='#1.4'>1.4</a> of this tutorial if you want to create a new file and save it before start working on a project."
   ]
  },
  {
   "cell_type": "markdown",
   "metadata": {},
   "source": [
    "<center>\n",
    "    <a href='anaconda.ipynb'> << Previous</a> &nbsp; | &nbsp; \n",
    "    <a href='main.ipynb'>Table of contents</a> &nbsp; | &nbsp; \n",
    "    <a href='pandas.ipynb'>Next >></a>\n",
    "</center>"
   ]
  }
 ],
 "metadata": {
  "kernelspec": {
   "display_name": "Python 3",
   "language": "python",
   "name": "python3"
  },
  "language_info": {
   "codemirror_mode": {
    "name": "ipython",
    "version": 3
   },
   "file_extension": ".py",
   "mimetype": "text/x-python",
   "name": "python",
   "nbconvert_exporter": "python",
   "pygments_lexer": "ipython3",
   "version": "3.7.6"
  }
 },
 "nbformat": 4,
 "nbformat_minor": 4
}
