{
 "cells": [
  {
   "cell_type": "markdown",
   "metadata": {},
   "source": [
    "<center>\n",
    "    <a href='pandas.ipynb'> << Previous</a> &nbsp; | &nbsp; \n",
    "    <a href='main.ipynb'>Table of contents</a> &nbsp; | &nbsp; \n",
    "    <a href='dataFrames_series.ipynb'>Next >></a>\n",
    "</center>"
   ]
  },
  {
   "cell_type": "markdown",
   "metadata": {},
   "source": [
    "# 4. Reading files"
   ]
  },
  {
   "cell_type": "code",
   "execution_count": 1,
   "metadata": {},
   "outputs": [],
   "source": [
    "import pandas as pd"
   ]
  },
  {
   "cell_type": "markdown",
   "metadata": {},
   "source": [
    "### Reading from an online source  \n",
    "`pd.read_table('http://bit.ly/chiporders')`"
   ]
  },
  {
   "cell_type": "code",
   "execution_count": null,
   "metadata": {},
   "outputs": [],
   "source": []
  },
  {
   "cell_type": "markdown",
   "metadata": {},
   "source": [
    "### Reading the same file locally stored  \n",
    "`pd.read_table('data/chipotle.tsv')`"
   ]
  },
  {
   "cell_type": "code",
   "execution_count": null,
   "metadata": {},
   "outputs": [],
   "source": []
  },
  {
   "cell_type": "markdown",
   "metadata": {},
   "source": [
    "### Saving the and visualizing a dataset\n",
    "`orders = pd.read_table('data/chipotle.tsv')\n",
    "orders\n",
    "orders.head()`"
   ]
  },
  {
   "cell_type": "code",
   "execution_count": null,
   "metadata": {},
   "outputs": [],
   "source": []
  },
  {
   "cell_type": "code",
   "execution_count": null,
   "metadata": {},
   "outputs": [],
   "source": []
  },
  {
   "cell_type": "markdown",
   "metadata": {},
   "source": [
    "### Reading other file formats  \n",
    "`pd.read_table('http://bit.ly/movieusers')`"
   ]
  },
  {
   "cell_type": "code",
   "execution_count": null,
   "metadata": {
    "scrolled": false
   },
   "outputs": [],
   "source": []
  },
  {
   "cell_type": "markdown",
   "metadata": {},
   "source": [
    "### Choosing the data separator  \n",
    "Shortcut: shift+tab to see function/method documentation  \n",
    "\n",
    "`pd.read_table('http://bit.ly/movieusers', sep='|')`\n"
   ]
  },
  {
   "cell_type": "code",
   "execution_count": null,
   "metadata": {},
   "outputs": [],
   "source": []
  },
  {
   "cell_type": "markdown",
   "metadata": {},
   "source": [
    "### Adjusting the header  \n",
    "`pd.read_table('http://bit.ly/movieusers', sep='|', header=None)`"
   ]
  },
  {
   "cell_type": "code",
   "execution_count": null,
   "metadata": {},
   "outputs": [],
   "source": []
  },
  {
   "cell_type": "markdown",
   "metadata": {},
   "source": [
    "### Setting the column names  \n",
    "`column_names = ['user_id', 'age','gender','ocupation','zip_code']`  \n",
    "`pd.read_table('http://bit.ly/movieusers', sep='|', header=None, names=column_names)`"
   ]
  },
  {
   "cell_type": "code",
   "execution_count": 18,
   "metadata": {},
   "outputs": [],
   "source": []
  },
  {
   "cell_type": "code",
   "execution_count": null,
   "metadata": {},
   "outputs": [],
   "source": []
  },
  {
   "cell_type": "markdown",
   "metadata": {},
   "source": [
    "### Choosing the appropriate function to read a dataset\n",
    "- Quick look at available objects, functions and other options: `pd.+<tab>`\n",
    "- Looking at pandas documentation https://pandas.pydata.org/docs/reference/io.html"
   ]
  },
  {
   "cell_type": "markdown",
   "metadata": {},
   "source": [
    "### CSV files (comma separated values)\n",
    "`pd.read_csv('data/drinks.csv')`"
   ]
  },
  {
   "cell_type": "code",
   "execution_count": null,
   "metadata": {},
   "outputs": [],
   "source": []
  },
  {
   "cell_type": "markdown",
   "metadata": {},
   "source": [
    "### Excel files (xls, xlsx, xlsm, xlsb, odf, ods and odt file extensions)\n",
    "`pd.read_excel('data/drinks_excel.xlsx')`"
   ]
  },
  {
   "cell_type": "code",
   "execution_count": null,
   "metadata": {},
   "outputs": [],
   "source": []
  },
  {
   "cell_type": "markdown",
   "metadata": {},
   "source": [
    "<center>\n",
    "    <a href='pandas.ipynb'> << Previous</a> &nbsp; | &nbsp; \n",
    "    <a href='main.ipynb'>Table of contents</a> &nbsp; | &nbsp; \n",
    "    <a href='dataFrames_series.ipynb'>Next >></a>\n",
    "</center>"
   ]
  }
 ],
 "metadata": {
  "kernelspec": {
   "display_name": "Python 3",
   "language": "python",
   "name": "python3"
  },
  "language_info": {
   "codemirror_mode": {
    "name": "ipython",
    "version": 3
   },
   "file_extension": ".py",
   "mimetype": "text/x-python",
   "name": "python",
   "nbconvert_exporter": "python",
   "pygments_lexer": "ipython3",
   "version": "3.7.6"
  }
 },
 "nbformat": 4,
 "nbformat_minor": 4
}
