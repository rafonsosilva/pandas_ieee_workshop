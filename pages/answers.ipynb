{
 "cells": [
  {
   "cell_type": "markdown",
   "metadata": {},
   "source": [
    "<center>\n",
    "    <a href='exercises.ipynb'> &lt;&lt; Previous</a> &nbsp; | &nbsp; \n",
    "    <a href='../main.ipynb'>Table of contents</a> &nbsp; | &nbsp; \n",
    "</center>"
   ]
  },
  {
   "cell_type": "markdown",
   "metadata": {},
   "source": [
    "# 15. Exercises' answers  \n",
    "\n",
    "Series.plot documentation: https://pandas.pydata.org/pandas-docs/version/0.24.2/reference/api/pandas.Series.plot.html\n",
    "\n",
    "`import pandas as pd`"
   ]
  },
  {
   "cell_type": "code",
   "execution_count": null,
   "metadata": {},
   "outputs": [],
   "source": []
  },
  {
   "cell_type": "markdown",
   "metadata": {},
   "source": [
    "### 1. Import the dataset assigning meaningful column headers to each column and save the resulting DataFrame in a variable  \n",
    "\n",
    "`movie_users = pd.read_table('http://bit.ly/movieusers')`"
   ]
  },
  {
   "cell_type": "code",
   "execution_count": null,
   "metadata": {},
   "outputs": [],
   "source": []
  },
  {
   "cell_type": "markdown",
   "metadata": {},
   "source": [
    "`user_cols = ['user_id', 'age', 'gender', 'ocupation', 'zip_code']`  \n",
    "`movie_users = pd.read_table('http://bit.ly/movieusers', sep = '|', header=None, names=user_cols)`  \n",
    "`movie_users.head()`"
   ]
  },
  {
   "cell_type": "code",
   "execution_count": null,
   "metadata": {},
   "outputs": [],
   "source": []
  },
  {
   "cell_type": "code",
   "execution_count": null,
   "metadata": {},
   "outputs": [],
   "source": []
  },
  {
   "cell_type": "markdown",
   "metadata": {},
   "source": [
    "### 2. Get the absolute and relative number of users by gender there are in the dataset  \n",
    "\n",
    "Getting absolute value counts  \n",
    "\n",
    "`movie_users.gender.value_counts()`"
   ]
  },
  {
   "cell_type": "code",
   "execution_count": null,
   "metadata": {},
   "outputs": [],
   "source": []
  },
  {
   "cell_type": "markdown",
   "metadata": {},
   "source": [
    "Getting relative value counts  \n",
    "\n",
    "`movie_users.gender.value_counts(normalize=True)`"
   ]
  },
  {
   "cell_type": "code",
   "execution_count": null,
   "metadata": {},
   "outputs": [],
   "source": []
  },
  {
   "cell_type": "markdown",
   "metadata": {},
   "source": [
    "Using simple plotting.  \n",
    "Reference: https://pandas.pydata.org/pandas-docs/version/0.24.2/reference/api/pandas.Series.plot.html  \n",
    "\n",
    "`movie_users.gender.value_counts().plot(kind='pie', title='Users by gender');`"
   ]
  },
  {
   "cell_type": "code",
   "execution_count": null,
   "metadata": {},
   "outputs": [],
   "source": []
  },
  {
   "cell_type": "markdown",
   "metadata": {},
   "source": [
    "### 3. Count and display how many users by ocupation there are in the dataset  \n",
    "\n",
    "`movie_users.ocupation.value_counts()`"
   ]
  },
  {
   "cell_type": "code",
   "execution_count": null,
   "metadata": {},
   "outputs": [],
   "source": []
  },
  {
   "cell_type": "markdown",
   "metadata": {},
   "source": [
    "Plotting  \n",
    "\n",
    "`movie_users.ocupation.value_counts().plot(kind='bar')`"
   ]
  },
  {
   "cell_type": "code",
   "execution_count": null,
   "metadata": {},
   "outputs": [],
   "source": []
  },
  {
   "cell_type": "markdown",
   "metadata": {},
   "source": [
    "Adjusting the plot  \n",
    "\n",
    "`movie_users.ocupation.value_counts().plot(kind='bar', figsize=(15,5), title='Users by ocupation')`"
   ]
  },
  {
   "cell_type": "code",
   "execution_count": null,
   "metadata": {},
   "outputs": [],
   "source": []
  },
  {
   "cell_type": "markdown",
   "metadata": {},
   "source": [
    "### 4. Display what is the minimum and the maximum age among all users"
   ]
  },
  {
   "cell_type": "markdown",
   "metadata": {},
   "source": [
    "`print('The youngest user is ' + str(movie_users.age.min())+' years old.')`"
   ]
  },
  {
   "cell_type": "code",
   "execution_count": null,
   "metadata": {},
   "outputs": [],
   "source": []
  },
  {
   "cell_type": "markdown",
   "metadata": {},
   "source": [
    "`print('The oldest user is ' + str(movie_users.age.max())+' years old.')`"
   ]
  },
  {
   "cell_type": "code",
   "execution_count": null,
   "metadata": {},
   "outputs": [],
   "source": []
  },
  {
   "cell_type": "markdown",
   "metadata": {},
   "source": [
    "### 5. Display all of the information of the users with minimum and maximum age from the dataset"
   ]
  },
  {
   "cell_type": "code",
   "execution_count": null,
   "metadata": {},
   "outputs": [],
   "source": []
  },
  {
   "cell_type": "code",
   "execution_count": null,
   "metadata": {},
   "outputs": [],
   "source": []
  },
  {
   "cell_type": "markdown",
   "metadata": {},
   "source": [
    "### 6. Using groupby, get a list with the mean of age by gender for each ocpuation.  \n",
    "\n",
    "`movie_users.groupby(['ocupation','gender']).mean()['age']`"
   ]
  },
  {
   "cell_type": "code",
   "execution_count": null,
   "metadata": {},
   "outputs": [],
   "source": []
  },
  {
   "cell_type": "markdown",
   "metadata": {},
   "source": [
    "### 7. Among the users whose occupation is 'scientist', show the percentage of each gender.  \n",
    "\n",
    "`scientists = movie_users[movie_users.ocupation == 'scientist']\n",
    "scientists`"
   ]
  },
  {
   "cell_type": "code",
   "execution_count": null,
   "metadata": {},
   "outputs": [],
   "source": []
  },
  {
   "cell_type": "markdown",
   "metadata": {},
   "source": [
    "`scientists.gender.value_counts(normalize=True)`"
   ]
  },
  {
   "cell_type": "code",
   "execution_count": null,
   "metadata": {},
   "outputs": [],
   "source": []
  },
  {
   "cell_type": "markdown",
   "metadata": {},
   "source": [
    "<center>\n",
    "    <a href='exercises.ipynb'> &lt;&lt; Previous</a> &nbsp; | &nbsp; \n",
    "    <a href='../main.ipynb'>Table of contents</a> &nbsp; | &nbsp; \n",
    "</center>"
   ]
  }
 ],
 "metadata": {
  "kernelspec": {
   "display_name": "Python 3.7.6 64-bit ('base': conda)",
   "language": "python",
   "name": "python37664bitbasecondaea9224f44d974fbf967556b97f704ac7"
  },
  "language_info": {
   "codemirror_mode": {
    "name": "ipython",
    "version": 3
   },
   "file_extension": ".py",
   "mimetype": "text/x-python",
   "name": "python",
   "nbconvert_exporter": "python",
   "pygments_lexer": "ipython3",
   "version": "3.7.6"
  }
 },
 "nbformat": 4,
 "nbformat_minor": 4
}
