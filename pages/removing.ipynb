{
 "cells": [
  {
   "cell_type": "markdown",
   "metadata": {},
   "source": [
    "<center>\n",
    "    <a href='renaming.ipynb'> &lt;&lt; Previous</a> &nbsp; | &nbsp; \n",
    "    <a href='../main.ipynb'>Table of contents</a> &nbsp; | &nbsp; \n",
    "    <a href='sorting.ipynb'>Next &gt;&gt;</a>\n",
    "</center>"
   ]
  },
  {
   "cell_type": "markdown",
   "metadata": {},
   "source": [
    "# 9. Removing columns and rows"
   ]
  },
  {
   "cell_type": "markdown",
   "metadata": {},
   "source": [
    "`import pandas as pd`"
   ]
  },
  {
   "cell_type": "code",
   "execution_count": null,
   "metadata": {},
   "outputs": [],
   "source": []
  },
  {
   "cell_type": "markdown",
   "metadata": {},
   "source": [
    "`df = pd.read_csv('data/ufo.csv')`  \n",
    "`df.head()`"
   ]
  },
  {
   "cell_type": "code",
   "execution_count": null,
   "metadata": {},
   "outputs": [],
   "source": []
  },
  {
   "cell_type": "markdown",
   "metadata": {},
   "source": [
    "## Removing one or more columns  \n",
    "\n",
    "When using the DataFrame.drop() method to drop one or more columns, there are at two mandatory arguments:\n",
    "- the column name\n",
    "- the axis (should be set to 1; default is 0)  \n",
    "\n",
    "One of the optional arguments is inplace, which is set to False by default.  \n",
    "\n",
    "`df.drop('Colors Reported', axis=1, inplace=True)`  \n",
    "`df.head()`"
   ]
  },
  {
   "cell_type": "code",
   "execution_count": null,
   "metadata": {},
   "outputs": [],
   "source": []
  },
  {
   "cell_type": "code",
   "execution_count": null,
   "metadata": {},
   "outputs": [],
   "source": []
  },
  {
   "cell_type": "markdown",
   "metadata": {},
   "source": [
    "If more than one column needs to be deleted, a list with the column names should be passed as an argument, followed by the axis set to 1.  \n",
    "\n",
    "`df.drop(['City','State'], axis=1, inplace=True)`\n"
   ]
  },
  {
   "cell_type": "code",
   "execution_count": null,
   "metadata": {},
   "outputs": [],
   "source": []
  },
  {
   "cell_type": "code",
   "execution_count": null,
   "metadata": {},
   "outputs": [],
   "source": []
  },
  {
   "cell_type": "markdown",
   "metadata": {},
   "source": [
    "## Removing one or more rows  \n",
    "\n",
    "When using the DataFrame.drop() method to drop one or more rows, only the row index or indices is mandatory as argument. There's no need to explicitly set the axis to 0 because it has already this value by default.  \n",
    "\n",
    "`df.drop(0, inplace=True)`\n"
   ]
  },
  {
   "cell_type": "code",
   "execution_count": null,
   "metadata": {},
   "outputs": [],
   "source": []
  },
  {
   "cell_type": "code",
   "execution_count": null,
   "metadata": {},
   "outputs": [],
   "source": []
  },
  {
   "cell_type": "markdown",
   "metadata": {},
   "source": [
    "  \n",
    "A list of rows to be deleted can also be used as argument if more than one row needs to be deleted.  \n",
    "\n",
    "`df.drop([1,2,3], axis=0, inplace=True)`  \n",
    "`df`"
   ]
  },
  {
   "cell_type": "code",
   "execution_count": null,
   "metadata": {},
   "outputs": [],
   "source": []
  },
  {
   "cell_type": "code",
   "execution_count": null,
   "metadata": {},
   "outputs": [],
   "source": []
  },
  {
   "cell_type": "markdown",
   "metadata": {},
   "source": [
    "<center>\n",
    "    <a href='renaming.ipynb'> &lt;&lt; Previous</a> &nbsp; | &nbsp; \n",
    "    <a href='../main.ipynb'>Table of contents</a> &nbsp; | &nbsp; \n",
    "    <a href='sorting.ipynb'>Next &gt;&gt;</a>\n",
    "</center>"
   ]
  }
 ],
 "metadata": {
  "kernelspec": {
   "display_name": "Python 3",
   "language": "python",
   "name": "python3"
  },
  "language_info": {
   "codemirror_mode": {
    "name": "ipython",
    "version": 3
   },
   "file_extension": ".py",
   "mimetype": "text/x-python",
   "name": "python",
   "nbconvert_exporter": "python",
   "pygments_lexer": "ipython3",
   "version": "3.7.6"
  }
 },
 "nbformat": 4,
 "nbformat_minor": 4
}
