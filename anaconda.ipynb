{
 "cells": [
  {
   "cell_type": "markdown",
   "metadata": {},
   "source": [
    "<center>\n",
    "<a href='main.ipynb'> &lt;&lt; Previous</a> &nbsp; | &nbsp; \n",
    "<a href='main.ipynb'>Table of contents</a> &nbsp; | &nbsp; \n",
    "<a href='jupyter_notebook.ipynb'>Next &gt;&gt;</a>\n",
    "</center>"
   ]
  },
  {
   "cell_type": "markdown",
   "metadata": {},
   "source": [
    "# 1. Anaconda instalation"
   ]
  },
  {
   "cell_type": "markdown",
   "metadata": {},
   "source": [
    "Anaconda is a free and open-source distribution of the Python and R programming languages for scientific computing (data science, machine learning applications, large-scale data processing, predictive analytics, etc.), that aims to simplify package management and deployment.  \n",
    "\n",
    "Source: https://en.wikipedia.org/wiki/Anaconda_(Python_distribution)"
   ]
  },
  {
   "cell_type": "markdown",
   "metadata": {},
   "source": [
    "<ol>\n",
    "<li>Go to https://www.anaconda.com/</li><br>\n",
    "\n",
    "<li>Hover over the Products menu button and select the edition that is better for you:</li>\n",
    "<img src='img/anaconda1.png'><br>\n",
    "    \n",
    "<li>Scroll down up untill find the Anaconda Installers and download the correct version for your operating system:</li>\n",
    "<img src='img/anaconda2.png'><br>\n",
    "\n",
    "<li>Then follow the necessary installation steps according to your operating system</li><br>\n",
    "    \n",
    "<li>Should you need any help, you can easily refer to the FAQ at the Anaconda Documentation: <a href='https://docs.anaconda.com/anaconda/user-guide/faq/'>https://docs.anaconda.com/anaconda/user-guide/faq/</a></li>\n",
    "\n",
    "</ol>"
   ]
  },
  {
   "cell_type": "markdown",
   "metadata": {},
   "source": [
    "<center>\n",
    "    <a href='main.ipynb'> << Previous</a> &nbsp; | &nbsp; \n",
    "    <a href='main.ipynb'>Table of contents</a> &nbsp; | &nbsp; \n",
    "    <a href='jupyter_notebook.ipynb'>Next >></a>\n",
    "</center>"
   ]
  }
 ],
 "metadata": {
  "kernelspec": {
   "display_name": "Python 3",
   "language": "python",
   "name": "python3"
  },
  "language_info": {
   "codemirror_mode": {
    "name": "ipython",
    "version": 3
   },
   "file_extension": ".py",
   "mimetype": "text/x-python",
   "name": "python",
   "nbconvert_exporter": "python",
   "pygments_lexer": "ipython3",
   "version": "3.7.6"
  }
 },
 "nbformat": 4,
 "nbformat_minor": 4
}
