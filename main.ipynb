{
 "cells": [
  {
   "cell_type": "markdown",
   "metadata": {},
   "source": [
    "<meta charset=\"UTF-8\">\n",
    "<meta name=\"viewport\" content=\"width=device-width, initial-scale=1.0\">\n",
    "<title>Document</title>\n",
    "\n",
    "\n",
    "# pandas Workshop\n",
    "Date: August 18, 2020 | Time: 10:00 am EDT  \n",
    "Speaker: Rafael Afonso Silva  \n",
    "LinkedIn: https://www.linkedin.com/in/rafonsosilva/  \n",
    "Files used in the presentation:"
   ]
  },
  {
   "cell_type": "markdown",
   "metadata": {},
   "source": [
    "## Table of contents\n",
    "<a href='anaconda.ipynb'>1. Anaconda instalation</a>  \n",
    "\n",
    "<a href='jupyter_notebook.ipynb'>2. Jupyter Notebook</a>  \n",
    "\n",
    "<a href='pandas.ipynb'>3. What is pandas and why use it for Data Science?</a>  \n",
    "\n",
    "<a href='read_files.ipynb'>4. Reading files</a>  \n",
    "\n",
    "<a href='dataframes_series.ipynb'>5. Pandas main objects: DataFrames & Series</a>  \n",
    "\n",
    "<a href='selecting.ipynb'>6. Selecting one or more Series in a Dataframe</a>  \n",
    "\n",
    "<a href='combining.ipynb'>7. Combining two or more Series</a>  \n",
    "\n",
    "<a href='renaming.ipynb'>8. Renaming columns</a>  \n",
    "\n",
    "<a href='removing.ipynb'>9. Removing columns and rows</a> \n",
    "\n",
    "<a href='sorting.ipynb'>10. Sorting</a>  \n",
    "\n",
    "<a href='filtering.ipynb'>11. Filtering rows</a>  \n",
    "\n",
    "<a href='string_handling.ipynb'>12. String handling and changing data types in Series</a>  \n",
    "\n",
    "<a href='groupby.ipynb'>13. Group by and basic analysis: mean(), min(), and max()</a>  \n",
    "\n",
    "<a href='basic_analysis.ipynb'>14. Basic analysis and plotting</a>  "
   ]
  },
  {
   "cell_type": "markdown",
   "metadata": {},
   "source": [
    "\n",
    "<a rel=\"license\" href=\"http://creativecommons.org/licenses/by-nc/4.0/\">\n",
    "    <img alt=\"Creative Commons Licence\" style=\"border-width:0\" src=\"https://i.creativecommons.org/l/by-nc/4.0/80x15.png\" />\n",
    "</a><br/>\n",
    "Introduction to pandas - Python Data Analysis Library by <a href=\"https://github.com/rafonsosilva/pandas_ieee_workshop\" property=\"cc:attributionName\" rel=\"cc:attributionURL\">Rafael Afonso Silva</a> is licensed under a <a rel=\"license\" href=\"http://creativecommons.org/licenses/by-nc/4.0/\">Creative Commons Attribution-NonCommercial 4.0 International License</a>."
   ]
  }
 ],
 "metadata": {
  "kernelspec": {
   "display_name": "Python 3.7.6 64-bit ('base': conda)",
   "language": "python",
   "name": "python37664bitbasecondaea9224f44d974fbf967556b97f704ac7"
  },
  "language_info": {
   "codemirror_mode": {
    "name": "ipython",
    "version": 3
   },
   "file_extension": ".py",
   "mimetype": "text/x-python",
   "name": "python",
   "nbconvert_exporter": "python",
   "pygments_lexer": "ipython3",
   "version": "3.7.6"
  }
 },
 "nbformat": 4,
 "nbformat_minor": 4
}
