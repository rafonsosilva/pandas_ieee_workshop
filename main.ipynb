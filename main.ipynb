{
 "cells": [
  {
   "cell_type": "markdown",
   "metadata": {},
   "source": [
    "<meta charset=\"UTF-8\">\n",
    "<meta name=\"viewport\" content=\"width=device-width, initial-scale=1.0\">\n",
    "<title>Document</title>\n",
    "\n",
    "\n",
    "# pandas Workshop\n",
    "Date: August 18, 2020 | Time: 10:00 am EDT  \n",
    "Speaker: Rafael Afonso Silva  \n",
    "LinkedIn: https://www.linkedin.com/in/rafonsosilva/  \n",
    "Files used in the presentation:"
   ]
  },
  {
   "cell_type": "markdown",
   "metadata": {},
   "source": [
    "## Table of contents\n",
    "<a href='anaconda.ipynb'>1. Anaconda instalation</a>  \n",
    "\n",
    "<a href='jupyter_notebook.ipynb'>2. Jupyter Notebook</a>  \n",
    "\n",
    "<a href='pandas.ipynb'>3. What is pandas and why use it for Data Science?</a>  \n",
    "\n",
    "<a href='read_files.ipynb'>4. Reading files</a>  \n",
    "\n",
    "<a href='dataframes_series.ipynb'>5. Pandas main objects: DataFrames & Series</a>  \n",
    "\n",
    "<a href='selecting.ipynb'>6. Selecting one or more Series in a Dataframe</a>  \n",
    "\n",
    "<a href='combining.ipynb'>7. Combining two or more Series</a>  \n",
    "\n",
    "<a href='renaming.ipynb'>8. Renaming columns and Reindexing rows</a>  \n",
    "\n",
    "<a href='removing.ipynb'>9. Removing columns</a> \n",
    "\n",
    "<a href='sorting.ipynb'>10. Sorting</a>  \n",
    "\n",
    "<a href='filtering.ipynb'>11. Filtering rows</a>  \n",
    "\n",
    "<a href='string_handling.ipynb'>12. String handling</a>  \n",
    "\n",
    "<a href='changing_data_types.ipynb'>13. Changing data types in Series</a> \n",
    "\n",
    "<a href='groupby.ipynb'>14. Group by</a>  \n",
    "\n",
    "<a href='basic_analysis.ipynb'>15. Basic analysis: mean(), min(), max(), describe(), value_counts()</a>  \n",
    "\n",
    "<a href='ploting.ipynb'>16. Ploting</a>  "
   ]
  },
  {
   "cell_type": "markdown",
   "metadata": {},
   "source": [
    "<a rel=\"license\" href=\"http://creativecommons.org/licenses/by-nc/4.0/\"><img alt=\"Creative Commons Licence\" style=\"border-width:0\" src=\"https://i.creativecommons.org/l/by-nc/4.0/80x15.png\" /></a><br /><span xmlns:dct=\"http://purl.org/dc/terms/\" property=\"dct:title\">Introduction to Search Results Web results  pandas - Python Data Analysis Library</span> by <a xmlns:cc=\"http://creativecommons.org/ns#\" href=\"https://github.com/rafonsosilva/pandas_ieee_workshop\" property=\"cc:attributionName\" rel=\"cc:attributionURL\">Rafael Afonso Silva</a> is licensed under a <a rel=\"license\" href=\"http://creativecommons.org/licenses/by-nc/4.0/\">Creative Commons Attribution-NonCommercial 4.0 International License</a>."
   ]
  },
  {
   "cell_type": "code",
   "execution_count": null,
   "metadata": {},
   "outputs": [],
   "source": []
  }
 ],
 "metadata": {
  "kernelspec": {
   "display_name": "Python 3",
   "language": "python",
   "name": "python3"
  },
  "language_info": {
   "codemirror_mode": {
    "name": "ipython",
    "version": 3
   },
   "file_extension": ".py",
   "mimetype": "text/x-python",
   "name": "python",
   "nbconvert_exporter": "python",
   "pygments_lexer": "ipython3",
   "version": "3.7.6"
  }
 },
 "nbformat": 4,
 "nbformat_minor": 4
}
