{
 "cells": [
  {
   "cell_type": "markdown",
   "metadata": {},
   "source": [
    "<center>\n",
    "    <a href='dataframes_series.ipynb'> << Previous</a> &nbsp; | &nbsp; \n",
    "    <a href='main.ipynb'>Table of contents</a> &nbsp; | &nbsp; \n",
    "    <a href='combining.ipynb'>Next >></a>\n",
    "</center>"
   ]
  },
  {
   "cell_type": "markdown",
   "metadata": {},
   "source": [
    "# 6. Selecting one or more Series in a Dataframe"
   ]
  },
  {
   "cell_type": "markdown",
   "metadata": {},
   "source": [
    "`import pandas as pd`"
   ]
  },
  {
   "cell_type": "code",
   "execution_count": null,
   "metadata": {},
   "outputs": [],
   "source": []
  },
  {
   "cell_type": "markdown",
   "metadata": {},
   "source": [
    "`df = pd.read_csv('data/ufo.csv')\n",
    "df`"
   ]
  },
  {
   "cell_type": "code",
   "execution_count": null,
   "metadata": {},
   "outputs": [],
   "source": []
  },
  {
   "cell_type": "markdown",
   "metadata": {},
   "source": [
    "## Selecting by using square brakets [...]\n",
    "- The column name must be spelled exactly as it is shown in the DataFrame\n",
    "- Must use this option when column name has two or more words separated by spaces  \n",
    "\n",
    "`df['City']`"
   ]
  },
  {
   "cell_type": "code",
   "execution_count": null,
   "metadata": {},
   "outputs": [],
   "source": []
  },
  {
   "cell_type": "markdown",
   "metadata": {},
   "source": [
    "## Selecting by using dot notation\n",
    "- The column name must be spelled exactly as it is shown in the DataFrame\n",
    "- Can't be used when column name has two or more words separated by spaces\n",
    "- Can't be used when a column to be accessed has the same name as one of the DataFrame methods or attributes\n",
    "\n",
    "`df.City`"
   ]
  },
  {
   "cell_type": "code",
   "execution_count": null,
   "metadata": {},
   "outputs": [],
   "source": []
  },
  {
   "cell_type": "markdown",
   "metadata": {},
   "source": [
    "## Selecting two or more Series at once  \n",
    "`df[['City','State']]`  \n",
    "`type(df[['City','State']])`"
   ]
  },
  {
   "cell_type": "code",
   "execution_count": null,
   "metadata": {},
   "outputs": [],
   "source": []
  },
  {
   "cell_type": "code",
   "execution_count": null,
   "metadata": {},
   "outputs": [],
   "source": []
  },
  {
   "cell_type": "markdown",
   "metadata": {},
   "source": [
    "<center>\n",
    "    <a href='dataframes_series.ipynb'> << Previous</a> &nbsp; | &nbsp; \n",
    "    <a href='main.ipynb'>Table of contents</a> &nbsp; | &nbsp; \n",
    "    <a href='combining.ipynb'>Next >></a>\n",
    "</center>"
   ]
  }
 ],
 "metadata": {
  "kernelspec": {
   "display_name": "Python 3",
   "language": "python",
   "name": "python3"
  },
  "language_info": {
   "codemirror_mode": {
    "name": "ipython",
    "version": 3
   },
   "file_extension": ".py",
   "mimetype": "text/x-python",
   "name": "python",
   "nbconvert_exporter": "python",
   "pygments_lexer": "ipython3",
   "version": "3.7.6"
  }
 },
 "nbformat": 4,
 "nbformat_minor": 4
}
